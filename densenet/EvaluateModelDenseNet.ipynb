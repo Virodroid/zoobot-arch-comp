{
 "cells": [
  {
   "cell_type": "code",
   "execution_count": 1,
   "id": "express-alias",
   "metadata": {},
   "outputs": [
    {
     "name": "stderr",
     "output_type": "stream",
     "text": [
      "2021-09-14 12:10:52.595084: I tensorflow/stream_executor/platform/default/dso_loader.cc:53] Successfully opened dynamic library libcudart.so.11.0\n"
     ]
    }
   ],
   "source": [
    "import pandas as pd\n",
    "import numpy as np\n",
    "from sklearn.metrics import confusion_matrix, accuracy_score, classification_report, ConfusionMatrixDisplay, precision_recall_fscore_support\n",
    "\n",
    "from zoobot import label_metadata, schemas\n",
    "from zoobot.stats import dirichlet_stats\n",
    "\n",
    "import matplotlib.pyplot as plt"
   ]
  },
  {
   "cell_type": "code",
   "execution_count": 2,
   "id": "cardiovascular-discipline",
   "metadata": {},
   "outputs": [],
   "source": [
    "decals_test = pd.read_csv('../Ilifu_data/decals_ilifu_test.csv')"
   ]
  },
  {
   "cell_type": "code",
   "execution_count": 3,
   "id": "coastal-thursday",
   "metadata": {},
   "outputs": [
    {
     "name": "stdout",
     "output_type": "stream",
     "text": [
      "{smooth-or-featured, indices 0 to 2, asked after None: (0, 2), disk-edge-on, indices 3 to 4, asked after smooth-or-featured_featured-or-disk, index 1: (3, 4), has-spiral-arms, indices 5 to 6, asked after disk-edge-on_no, index 4: (5, 6), bar, indices 7 to 9, asked after disk-edge-on_no, index 4: (7, 9), bulge-size, indices 10 to 14, asked after disk-edge-on_no, index 4: (10, 14), how-rounded, indices 15 to 17, asked after smooth-or-featured_smooth, index 0: (15, 17), edge-on-bulge, indices 18 to 20, asked after disk-edge-on_yes, index 3: (18, 20), spiral-winding, indices 21 to 23, asked after has-spiral-arms_yes, index 5: (21, 23), spiral-arm-count, indices 24 to 29, asked after has-spiral-arms_yes, index 5: (24, 29), merging, indices 30 to 33, asked after None: (30, 33)}\n",
      "(49917, 34, 5)\n"
     ]
    },
    {
     "name": "stderr",
     "output_type": "stream",
     "text": [
      "2021-09-14 12:11:12.897086: I tensorflow/stream_executor/platform/default/dso_loader.cc:53] Successfully opened dynamic library libcuda.so.1\n",
      "2021-09-14 12:11:12.916705: I tensorflow/stream_executor/cuda/cuda_gpu_executor.cc:937] successful NUMA node read from SysFS had negative value (-1), but there must be at least one NUMA node, so returning NUMA node zero\n",
      "2021-09-14 12:11:12.917611: I tensorflow/core/common_runtime/gpu/gpu_device.cc:1733] Found device 0 with properties: \n",
      "pciBusID: 0000:00:09.0 name: Tesla P100-PCIE-12GB computeCapability: 6.0\n",
      "coreClock: 1.3285GHz coreCount: 56 deviceMemorySize: 11.91GiB deviceMemoryBandwidth: 511.41GiB/s\n",
      "2021-09-14 12:11:12.917671: I tensorflow/stream_executor/platform/default/dso_loader.cc:53] Successfully opened dynamic library libcudart.so.11.0\n",
      "2021-09-14 12:11:12.976367: I tensorflow/stream_executor/platform/default/dso_loader.cc:53] Successfully opened dynamic library libcublas.so.11\n",
      "2021-09-14 12:11:12.976460: I tensorflow/stream_executor/platform/default/dso_loader.cc:53] Successfully opened dynamic library libcublasLt.so.11\n",
      "2021-09-14 12:11:12.993706: I tensorflow/stream_executor/platform/default/dso_loader.cc:53] Successfully opened dynamic library libcufft.so.10\n",
      "2021-09-14 12:11:13.004223: I tensorflow/stream_executor/platform/default/dso_loader.cc:53] Successfully opened dynamic library libcurand.so.10\n",
      "2021-09-14 12:11:13.012917: I tensorflow/stream_executor/platform/default/dso_loader.cc:53] Successfully opened dynamic library libcusolver.so.11\n",
      "2021-09-14 12:11:13.028604: I tensorflow/stream_executor/platform/default/dso_loader.cc:53] Successfully opened dynamic library libcusparse.so.11\n",
      "2021-09-14 12:11:13.030403: I tensorflow/stream_executor/platform/default/dso_loader.cc:53] Successfully opened dynamic library libcudnn.so.8\n",
      "2021-09-14 12:11:13.030619: I tensorflow/stream_executor/cuda/cuda_gpu_executor.cc:937] successful NUMA node read from SysFS had negative value (-1), but there must be at least one NUMA node, so returning NUMA node zero\n",
      "2021-09-14 12:11:13.031573: I tensorflow/stream_executor/cuda/cuda_gpu_executor.cc:937] successful NUMA node read from SysFS had negative value (-1), but there must be at least one NUMA node, so returning NUMA node zero\n",
      "2021-09-14 12:11:13.032418: I tensorflow/core/common_runtime/gpu/gpu_device.cc:1871] Adding visible gpu devices: 0\n",
      "2021-09-14 12:11:13.033195: I tensorflow/core/platform/cpu_feature_guard.cc:142] This TensorFlow binary is optimized with oneAPI Deep Neural Network Library (oneDNN) to use the following CPU instructions in performance-critical operations:  AVX2 FMA\n",
      "To enable them in other operations, rebuild TensorFlow with the appropriate compiler flags.\n",
      "2021-09-14 12:11:13.034873: I tensorflow/stream_executor/cuda/cuda_gpu_executor.cc:937] successful NUMA node read from SysFS had negative value (-1), but there must be at least one NUMA node, so returning NUMA node zero\n",
      "2021-09-14 12:11:13.035695: I tensorflow/core/common_runtime/gpu/gpu_device.cc:1733] Found device 0 with properties: \n",
      "pciBusID: 0000:00:09.0 name: Tesla P100-PCIE-12GB computeCapability: 6.0\n",
      "coreClock: 1.3285GHz coreCount: 56 deviceMemorySize: 11.91GiB deviceMemoryBandwidth: 511.41GiB/s\n",
      "2021-09-14 12:11:13.035832: I tensorflow/stream_executor/cuda/cuda_gpu_executor.cc:937] successful NUMA node read from SysFS had negative value (-1), but there must be at least one NUMA node, so returning NUMA node zero\n",
      "2021-09-14 12:11:13.036724: I tensorflow/stream_executor/cuda/cuda_gpu_executor.cc:937] successful NUMA node read from SysFS had negative value (-1), but there must be at least one NUMA node, so returning NUMA node zero\n",
      "2021-09-14 12:11:13.037542: I tensorflow/core/common_runtime/gpu/gpu_device.cc:1871] Adding visible gpu devices: 0\n",
      "2021-09-14 12:11:13.037624: I tensorflow/stream_executor/platform/default/dso_loader.cc:53] Successfully opened dynamic library libcudart.so.11.0\n",
      "2021-09-14 12:11:13.720934: I tensorflow/core/common_runtime/gpu/gpu_device.cc:1258] Device interconnect StreamExecutor with strength 1 edge matrix:\n",
      "2021-09-14 12:11:13.721003: I tensorflow/core/common_runtime/gpu/gpu_device.cc:1264]      0 \n",
      "2021-09-14 12:11:13.721018: I tensorflow/core/common_runtime/gpu/gpu_device.cc:1277] 0:   N \n",
      "2021-09-14 12:11:13.721384: I tensorflow/stream_executor/cuda/cuda_gpu_executor.cc:937] successful NUMA node read from SysFS had negative value (-1), but there must be at least one NUMA node, so returning NUMA node zero\n",
      "2021-09-14 12:11:13.722381: I tensorflow/stream_executor/cuda/cuda_gpu_executor.cc:937] successful NUMA node read from SysFS had negative value (-1), but there must be at least one NUMA node, so returning NUMA node zero\n",
      "2021-09-14 12:11:13.723320: I tensorflow/stream_executor/cuda/cuda_gpu_executor.cc:937] successful NUMA node read from SysFS had negative value (-1), but there must be at least one NUMA node, so returning NUMA node zero\n",
      "2021-09-14 12:11:13.724167: I tensorflow/core/common_runtime/gpu/gpu_device.cc:1418] Created TensorFlow device (/job:localhost/replica:0/task:0/device:GPU:0 with 11321 MB memory) -> physical GPU (device: 0, name: Tesla P100-PCIE-12GB, pci bus id: 0000:00:09.0, compute capability: 6.0)\n"
     ]
    }
   ],
   "source": [
    "schema = schemas.Schema(label_metadata.decals_pairs, label_metadata.get_gz2_and_decals_dependencies(label_metadata.decals_pairs))\n",
    "\n",
    "samples = []\n",
    "pred_locs = [f'../predictions/gzd5_model_dense_predictions.csv']\n",
    "for pred in pred_locs:\n",
    "    predictions = pd.read_csv(pred)\n",
    "    model_samples = dirichlet_stats.load_all_concentrations(predictions, concentration_cols=[a.text + '_pred' for a in schema.answers])\n",
    "    samples.append(model_samples)\n",
    "samples = np.concatenate(samples, axis=2)\n",
    "print(samples.shape)\n",
    "\n",
    "predicted_fractions = dirichlet_stats.dirichlet_prob_of_answers(samples, schema, temperature=None)"
   ]
  },
  {
   "cell_type": "code",
   "execution_count": 14,
   "id": "lesbian-session",
   "metadata": {},
   "outputs": [],
   "source": [
    "def findChoice(frac):\n",
    "    choice = np.zeros_like(frac)\n",
    "    choice[np.arange(len(frac)), frac.argmax(1)] = 1\n",
    "    return choice\n",
    "\n",
    "def evalQuestion(pred, volunteers, question, graphs=True):\n",
    "    qcol_name = question.text+'_total-votes'\n",
    "    fcol_names = [(cols.text+'_fraction') for cols in question.answers]\n",
    "    anscol_names = [cols.text for cols in question.answers]\n",
    "    pred_results = []\n",
    "    \n",
    "    valid_vol = volunteers.query('`{}`/`smooth-or-featured_total-votes` >= 0.5'.format(qcol_name))\n",
    "    valid_idx = valid_vol.index.tolist()\n",
    "    vol_results = valid_vol[fcol_names].values\n",
    "    \n",
    "    for i in valid_idx:\n",
    "        pred_results.append(pred[i][question.start_index:question.end_index+1])\n",
    "        \n",
    "    rounded_vol_results = findChoice(np.asarray(vol_results))\n",
    "    rounded_pred_results = findChoice(np.asarray(pred_results))\n",
    "    support = len(rounded_vol_results)\n",
    "    if graphs:\n",
    "        print(classification_report(y_pred=rounded_pred_results, y_true=rounded_vol_results, target_names=anscol_names))\n",
    "\n",
    "        conf_true = np.argmax(rounded_vol_results, axis=1)\n",
    "        conf_pred = np.argmax(rounded_pred_results, axis=1)\n",
    "        cm = confusion_matrix(conf_true, conf_pred)\n",
    "        fig = plt.figure(figsize=(5, 5))\n",
    "        ax = plt.subplot(1, 1, 1)\n",
    "        ConfusionMatrixDisplay(cm, display_labels=anscol_names).plot(cmap='Blues', xticks_rotation='vertical', values_format='d', ax=ax)\n",
    "        plt.show()\n",
    "    \n",
    "    return precision_recall_fscore_support(y_pred=rounded_pred_results, y_true=rounded_vol_results, average='micro'), support"
   ]
  },
  {
   "cell_type": "code",
   "execution_count": 15,
   "id": "romance-purple",
   "metadata": {},
   "outputs": [
    {
     "name": "stdout",
     "output_type": "stream",
     "text": [
      "                                     precision    recall  f1-score   support\n",
      "\n",
      "          smooth-or-featured_smooth       0.91      0.92      0.92     34333\n",
      "smooth-or-featured_featured-or-disk       0.83      0.81      0.82     14794\n",
      "        smooth-or-featured_artifact       0.50      0.50      0.50       790\n",
      "\n",
      "                          micro avg       0.88      0.88      0.88     49917\n",
      "                          macro avg       0.75      0.74      0.75     49917\n",
      "                       weighted avg       0.88      0.88      0.88     49917\n",
      "                        samples avg       0.88      0.88      0.88     49917\n",
      "\n"
     ]
    },
    {
     "data": {
      "image/png": "[encoded data removed]",
      "text/plain": [
       "<Figure size 360x360 with 2 Axes>"
      ]
     },
     "metadata": {
      "needs_background": "light"
     },
     "output_type": "display_data"
    },
    {
     "data": {
      "text/plain": [
       "((0.8810024640903901, 0.8810024640903901, 0.8810024640903901, None), 49917)"
      ]
     },
     "execution_count": 15,
     "metadata": {},
     "output_type": "execute_result"
    }
   ],
   "source": [
    "evalQuestion(predicted_fractions, decals_test, schema.get_question('smooth-or-featured'))"
   ]
  },
  {
   "cell_type": "code",
   "execution_count": 16,
   "id": "artistic-attraction",
   "metadata": {},
   "outputs": [],
   "source": [
    "total_report = {}\n",
    "for question in label_metadata.decals_pairs:\n",
    "    question_report, support = evalQuestion(predicted_fractions, decals_test, schema.get_question(question), graphs=False)\n",
    "    total_report[question] = {\n",
    "        'precision': question_report[0],\n",
    "        'recall': question_report[1],\n",
    "        'f1': question_report[2],\n",
    "        'support': support\n",
    "    }"
   ]
  },
  {
   "cell_type": "code",
   "execution_count": 17,
   "id": "ea1484a1-012e-4365-be37-f0ac2e64d325",
   "metadata": {},
   "outputs": [
    {
     "data": {
      "text/html": [
       "<div>\n",
       "<style scoped>\n",
       "    .dataframe tbody tr th:only-of-type {\n",
       "        vertical-align: middle;\n",
       "    }\n",
       "\n",
       "    .dataframe tbody tr th {\n",
       "        vertical-align: top;\n",
       "    }\n",
       "\n",
       "    .dataframe thead th {\n",
       "        text-align: right;\n",
       "    }\n",
       "</style>\n",
       "<table border=\"1\" class=\"dataframe\">\n",
       "  <thead>\n",
       "    <tr style=\"text-align: right;\">\n",
       "      <th></th>\n",
       "      <th>precision</th>\n",
       "      <th>recall</th>\n",
       "      <th>f1</th>\n",
       "      <th>support</th>\n",
       "    </tr>\n",
       "  </thead>\n",
       "  <tbody>\n",
       "    <tr>\n",
       "      <th>smooth-or-featured</th>\n",
       "      <td>0.881002</td>\n",
       "      <td>0.881002</td>\n",
       "      <td>0.881002</td>\n",
       "      <td>49917</td>\n",
       "    </tr>\n",
       "    <tr>\n",
       "      <th>disk-edge-on</th>\n",
       "      <td>0.957203</td>\n",
       "      <td>0.957203</td>\n",
       "      <td>0.957203</td>\n",
       "      <td>15445</td>\n",
       "    </tr>\n",
       "    <tr>\n",
       "      <th>has-spiral-arms</th>\n",
       "      <td>0.887610</td>\n",
       "      <td>0.887610</td>\n",
       "      <td>0.887610</td>\n",
       "      <td>11380</td>\n",
       "    </tr>\n",
       "    <tr>\n",
       "      <th>bar</th>\n",
       "      <td>0.710281</td>\n",
       "      <td>0.710281</td>\n",
       "      <td>0.710281</td>\n",
       "      <td>11380</td>\n",
       "    </tr>\n",
       "    <tr>\n",
       "      <th>bulge-size</th>\n",
       "      <td>0.695694</td>\n",
       "      <td>0.695694</td>\n",
       "      <td>0.695694</td>\n",
       "      <td>11380</td>\n",
       "    </tr>\n",
       "    <tr>\n",
       "      <th>how-rounded</th>\n",
       "      <td>0.874746</td>\n",
       "      <td>0.874746</td>\n",
       "      <td>0.874746</td>\n",
       "      <td>32526</td>\n",
       "    </tr>\n",
       "    <tr>\n",
       "      <th>edge-on-bulge</th>\n",
       "      <td>0.825455</td>\n",
       "      <td>0.825455</td>\n",
       "      <td>0.825455</td>\n",
       "      <td>2475</td>\n",
       "    </tr>\n",
       "    <tr>\n",
       "      <th>spiral-winding</th>\n",
       "      <td>0.706628</td>\n",
       "      <td>0.706628</td>\n",
       "      <td>0.706628</td>\n",
       "      <td>7499</td>\n",
       "    </tr>\n",
       "    <tr>\n",
       "      <th>spiral-arm-count</th>\n",
       "      <td>0.673690</td>\n",
       "      <td>0.673690</td>\n",
       "      <td>0.673690</td>\n",
       "      <td>7499</td>\n",
       "    </tr>\n",
       "    <tr>\n",
       "      <th>merging</th>\n",
       "      <td>0.882206</td>\n",
       "      <td>0.882206</td>\n",
       "      <td>0.882206</td>\n",
       "      <td>49247</td>\n",
       "    </tr>\n",
       "  </tbody>\n",
       "</table>\n",
       "</div>"
      ],
      "text/plain": [
       "                    precision    recall        f1  support\n",
       "smooth-or-featured   0.881002  0.881002  0.881002    49917\n",
       "disk-edge-on         0.957203  0.957203  0.957203    15445\n",
       "has-spiral-arms      0.887610  0.887610  0.887610    11380\n",
       "bar                  0.710281  0.710281  0.710281    11380\n",
       "bulge-size           0.695694  0.695694  0.695694    11380\n",
       "how-rounded          0.874746  0.874746  0.874746    32526\n",
       "edge-on-bulge        0.825455  0.825455  0.825455     2475\n",
       "spiral-winding       0.706628  0.706628  0.706628     7499\n",
       "spiral-arm-count     0.673690  0.673690  0.673690     7499\n",
       "merging              0.882206  0.882206  0.882206    49247"
      ]
     },
     "execution_count": 17,
     "metadata": {},
     "output_type": "execute_result"
    }
   ],
   "source": [
    "report_df = pd.DataFrame.from_dict(total_report, orient='index')\n",
    "report_df"
   ]
  },
  {
   "cell_type": "code",
   "execution_count": 18,
   "id": "06d90c48-23b5-467d-9da0-2698af7a1c30",
   "metadata": {},
   "outputs": [],
   "source": [
    "report_df.to_csv(\"../results/denseNet/model_dense_microstats.csv\")"
   ]
  },
  {
   "cell_type": "code",
   "execution_count": null,
   "id": "346f0f3b-94dc-42f1-add8-82651b79c687",
   "metadata": {},
   "outputs": [],
   "source": []
  }
 ],
 "metadata": {
  "kernelspec": {
   "display_name": "ASTRO-PY3",
   "language": "python",
   "name": "astro-py3"
  },
  "language_info": {
   "codemirror_mode": {
    "name": "ipython",
    "version": 3
   },
   "file_extension": ".py",
   "mimetype": "text/x-python",
   "name": "python",
   "nbconvert_exporter": "python",
   "pygments_lexer": "ipython3",
   "version": "3.6.8"
  }
 },
 "nbformat": 4,
 "nbformat_minor": 5
}
