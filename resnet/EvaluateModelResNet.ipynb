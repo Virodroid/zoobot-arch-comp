{
 "cells": [
  {
   "cell_type": "code",
   "execution_count": 1,
   "id": "proud-locator",
   "metadata": {},
   "outputs": [
    {
     "name": "stderr",
     "output_type": "stream",
     "text": [
      "2021-09-14 12:03:53.884397: I tensorflow/stream_executor/platform/default/dso_loader.cc:53] Successfully opened dynamic library libcudart.so.11.0\n"
     ]
    }
   ],
   "source": [
    "import pandas as pd\n",
    "import numpy as np\n",
    "from sklearn.metrics import confusion_matrix, accuracy_score, classification_report, ConfusionMatrixDisplay, precision_recall_fscore_support\n",
    "\n",
    "from zoobot import label_metadata, schemas\n",
    "from zoobot.stats import dirichlet_stats\n",
    "\n",
    "import matplotlib.pyplot as plt"
   ]
  },
  {
   "cell_type": "code",
   "execution_count": 2,
   "id": "lesbian-priest",
   "metadata": {},
   "outputs": [],
   "source": [
    "decals_test = pd.read_csv('../Ilifu_data/decals_ilifu_test.csv')"
   ]
  },
  {
   "cell_type": "code",
   "execution_count": 3,
   "id": "lovely-article",
   "metadata": {},
   "outputs": [
    {
     "name": "stdout",
     "output_type": "stream",
     "text": [
      "{smooth-or-featured, indices 0 to 2, asked after None: (0, 2), disk-edge-on, indices 3 to 4, asked after smooth-or-featured_featured-or-disk, index 1: (3, 4), has-spiral-arms, indices 5 to 6, asked after disk-edge-on_no, index 4: (5, 6), bar, indices 7 to 9, asked after disk-edge-on_no, index 4: (7, 9), bulge-size, indices 10 to 14, asked after disk-edge-on_no, index 4: (10, 14), how-rounded, indices 15 to 17, asked after smooth-or-featured_smooth, index 0: (15, 17), edge-on-bulge, indices 18 to 20, asked after disk-edge-on_yes, index 3: (18, 20), spiral-winding, indices 21 to 23, asked after has-spiral-arms_yes, index 5: (21, 23), spiral-arm-count, indices 24 to 29, asked after has-spiral-arms_yes, index 5: (24, 29), merging, indices 30 to 33, asked after None: (30, 33)}\n",
      "(49917, 34, 5)\n"
     ]
    },
    {
     "name": "stderr",
     "output_type": "stream",
     "text": [
      "2021-09-14 12:05:06.778810: I tensorflow/stream_executor/platform/default/dso_loader.cc:53] Successfully opened dynamic library libcuda.so.1\n",
      "2021-09-14 12:05:06.799860: I tensorflow/stream_executor/cuda/cuda_gpu_executor.cc:937] successful NUMA node read from SysFS had negative value (-1), but there must be at least one NUMA node, so returning NUMA node zero\n",
      "2021-09-14 12:05:06.800757: I tensorflow/core/common_runtime/gpu/gpu_device.cc:1733] Found device 0 with properties: \n",
      "pciBusID: 0000:00:09.0 name: Tesla P100-PCIE-12GB computeCapability: 6.0\n",
      "coreClock: 1.3285GHz coreCount: 56 deviceMemorySize: 11.91GiB deviceMemoryBandwidth: 511.41GiB/s\n",
      "2021-09-14 12:05:06.800808: I tensorflow/stream_executor/platform/default/dso_loader.cc:53] Successfully opened dynamic library libcudart.so.11.0\n",
      "2021-09-14 12:05:06.859442: I tensorflow/stream_executor/platform/default/dso_loader.cc:53] Successfully opened dynamic library libcublas.so.11\n",
      "2021-09-14 12:05:06.859528: I tensorflow/stream_executor/platform/default/dso_loader.cc:53] Successfully opened dynamic library libcublasLt.so.11\n",
      "2021-09-14 12:05:06.877214: I tensorflow/stream_executor/platform/default/dso_loader.cc:53] Successfully opened dynamic library libcufft.so.10\n",
      "2021-09-14 12:05:06.888035: I tensorflow/stream_executor/platform/default/dso_loader.cc:53] Successfully opened dynamic library libcurand.so.10\n",
      "2021-09-14 12:05:06.896723: I tensorflow/stream_executor/platform/default/dso_loader.cc:53] Successfully opened dynamic library libcusolver.so.11\n",
      "2021-09-14 12:05:06.912316: I tensorflow/stream_executor/platform/default/dso_loader.cc:53] Successfully opened dynamic library libcusparse.so.11\n",
      "2021-09-14 12:05:06.914215: I tensorflow/stream_executor/platform/default/dso_loader.cc:53] Successfully opened dynamic library libcudnn.so.8\n",
      "2021-09-14 12:05:06.914426: I tensorflow/stream_executor/cuda/cuda_gpu_executor.cc:937] successful NUMA node read from SysFS had negative value (-1), but there must be at least one NUMA node, so returning NUMA node zero\n",
      "2021-09-14 12:05:06.915347: I tensorflow/stream_executor/cuda/cuda_gpu_executor.cc:937] successful NUMA node read from SysFS had negative value (-1), but there must be at least one NUMA node, so returning NUMA node zero\n",
      "2021-09-14 12:05:06.916173: I tensorflow/core/common_runtime/gpu/gpu_device.cc:1871] Adding visible gpu devices: 0\n",
      "2021-09-14 12:05:06.916931: I tensorflow/core/platform/cpu_feature_guard.cc:142] This TensorFlow binary is optimized with oneAPI Deep Neural Network Library (oneDNN) to use the following CPU instructions in performance-critical operations:  AVX2 FMA\n",
      "To enable them in other operations, rebuild TensorFlow with the appropriate compiler flags.\n",
      "2021-09-14 12:05:06.918691: I tensorflow/stream_executor/cuda/cuda_gpu_executor.cc:937] successful NUMA node read from SysFS had negative value (-1), but there must be at least one NUMA node, so returning NUMA node zero\n",
      "2021-09-14 12:05:06.919523: I tensorflow/core/common_runtime/gpu/gpu_device.cc:1733] Found device 0 with properties: \n",
      "pciBusID: 0000:00:09.0 name: Tesla P100-PCIE-12GB computeCapability: 6.0\n",
      "coreClock: 1.3285GHz coreCount: 56 deviceMemorySize: 11.91GiB deviceMemoryBandwidth: 511.41GiB/s\n",
      "2021-09-14 12:05:06.919650: I tensorflow/stream_executor/cuda/cuda_gpu_executor.cc:937] successful NUMA node read from SysFS had negative value (-1), but there must be at least one NUMA node, so returning NUMA node zero\n",
      "2021-09-14 12:05:06.920543: I tensorflow/stream_executor/cuda/cuda_gpu_executor.cc:937] successful NUMA node read from SysFS had negative value (-1), but there must be at least one NUMA node, so returning NUMA node zero\n",
      "2021-09-14 12:05:06.921329: I tensorflow/core/common_runtime/gpu/gpu_device.cc:1871] Adding visible gpu devices: 0\n",
      "2021-09-14 12:05:06.921443: I tensorflow/stream_executor/platform/default/dso_loader.cc:53] Successfully opened dynamic library libcudart.so.11.0\n",
      "2021-09-14 12:05:07.673222: I tensorflow/core/common_runtime/gpu/gpu_device.cc:1258] Device interconnect StreamExecutor with strength 1 edge matrix:\n",
      "2021-09-14 12:05:07.673282: I tensorflow/core/common_runtime/gpu/gpu_device.cc:1264]      0 \n",
      "2021-09-14 12:05:07.673293: I tensorflow/core/common_runtime/gpu/gpu_device.cc:1277] 0:   N \n",
      "2021-09-14 12:05:07.673668: I tensorflow/stream_executor/cuda/cuda_gpu_executor.cc:937] successful NUMA node read from SysFS had negative value (-1), but there must be at least one NUMA node, so returning NUMA node zero\n",
      "2021-09-14 12:05:07.674618: I tensorflow/stream_executor/cuda/cuda_gpu_executor.cc:937] successful NUMA node read from SysFS had negative value (-1), but there must be at least one NUMA node, so returning NUMA node zero\n",
      "2021-09-14 12:05:07.675519: I tensorflow/stream_executor/cuda/cuda_gpu_executor.cc:937] successful NUMA node read from SysFS had negative value (-1), but there must be at least one NUMA node, so returning NUMA node zero\n",
      "2021-09-14 12:05:07.676394: I tensorflow/core/common_runtime/gpu/gpu_device.cc:1418] Created TensorFlow device (/job:localhost/replica:0/task:0/device:GPU:0 with 11321 MB memory) -> physical GPU (device: 0, name: Tesla P100-PCIE-12GB, pci bus id: 0000:00:09.0, compute capability: 6.0)\n"
     ]
    }
   ],
   "source": [
    "schema = schemas.Schema(label_metadata.decals_pairs, label_metadata.get_gz2_and_decals_dependencies(label_metadata.decals_pairs))\n",
    "\n",
    "samples = []\n",
    "pred_locs = [f'../predictions/gzd5_model_res_predictions.csv']\n",
    "for pred in pred_locs:\n",
    "    predictions = pd.read_csv(pred)\n",
    "    model_samples = dirichlet_stats.load_all_concentrations(predictions, concentration_cols=[a.text + '_pred' for a in schema.answers])\n",
    "    samples.append(model_samples)\n",
    "samples = np.concatenate(samples, axis=2)\n",
    "print(samples.shape)\n",
    "\n",
    "predicted_fractions = dirichlet_stats.dirichlet_prob_of_answers(samples, schema, temperature=None)"
   ]
  },
  {
   "cell_type": "code",
   "execution_count": 14,
   "id": "identified-lexington",
   "metadata": {},
   "outputs": [],
   "source": [
    "def findChoice(frac):\n",
    "    choice = np.zeros_like(frac)\n",
    "    choice[np.arange(len(frac)), frac.argmax(1)] = 1\n",
    "    return choice\n",
    "\n",
    "def evalQuestion(pred, volunteers, question, graphs=True):\n",
    "    qcol_name = question.text+'_total-votes'\n",
    "    fcol_names = [(cols.text+'_fraction') for cols in question.answers]\n",
    "    anscol_names = [cols.text for cols in question.answers]\n",
    "    pred_results = []\n",
    "    \n",
    "    valid_vol = volunteers.query('`{}`/`smooth-or-featured_total-votes` >= 0.5'.format(qcol_name))\n",
    "    valid_idx = valid_vol.index.tolist()\n",
    "    vol_results = valid_vol[fcol_names].values\n",
    "    \n",
    "    for i in valid_idx:\n",
    "        pred_results.append(pred[i][question.start_index:question.end_index+1])\n",
    "        \n",
    "    rounded_vol_results = findChoice(np.asarray(vol_results))\n",
    "    rounded_pred_results = findChoice(np.asarray(pred_results))\n",
    "    support = len(rounded_vol_results)\n",
    "    if graphs:\n",
    "        print(classification_report(y_pred=rounded_pred_results, y_true=rounded_vol_results, target_names=anscol_names))\n",
    "\n",
    "        conf_true = np.argmax(rounded_vol_results, axis=1)\n",
    "        conf_pred = np.argmax(rounded_pred_results, axis=1)\n",
    "        cm = confusion_matrix(conf_true, conf_pred)\n",
    "        fig = plt.figure(figsize=(5, 5))\n",
    "        ax = plt.subplot(1, 1, 1)\n",
    "        ConfusionMatrixDisplay(cm, display_labels=anscol_names).plot(cmap='Blues', xticks_rotation='vertical', values_format='d', ax=ax)\n",
    "        plt.show()\n",
    "    \n",
    "    return precision_recall_fscore_support(y_pred=rounded_pred_results, y_true=rounded_vol_results, average='weighted'), support"
   ]
  },
  {
   "cell_type": "code",
   "execution_count": 15,
   "id": "blessed-choir",
   "metadata": {},
   "outputs": [
    {
     "name": "stdout",
     "output_type": "stream",
     "text": [
      "                          precision    recall  f1-score   support\n",
      "\n",
      "       how-rounded_round       0.90      0.84      0.87     11102\n",
      "  how-rounded_in-between       0.87      0.87      0.87     17072\n",
      "how-rounded_cigar-shaped       0.77      0.90      0.83      4352\n",
      "\n",
      "               micro avg       0.86      0.86      0.86     32526\n",
      "               macro avg       0.85      0.87      0.86     32526\n",
      "            weighted avg       0.87      0.86      0.86     32526\n",
      "             samples avg       0.86      0.86      0.86     32526\n",
      "\n"
     ]
    },
    {
     "data": {
      "image/png": "[encoded data removed]",
      "text/plain": [
       "<Figure size 360x360 with 2 Axes>"
      ]
     },
     "metadata": {
      "needs_background": "light"
     },
     "output_type": "display_data"
    },
    {
     "data": {
      "text/plain": [
       "((0.8673284166717908, 0.8643239254750046, 0.8648127716668259, None), 32526)"
      ]
     },
     "execution_count": 15,
     "metadata": {},
     "output_type": "execute_result"
    }
   ],
   "source": [
    "evalQuestion(predicted_fractions, decals_test, schema.get_question('how-rounded'))"
   ]
  },
  {
   "cell_type": "code",
   "execution_count": 16,
   "id": "aerial-startup",
   "metadata": {},
   "outputs": [
    {
     "name": "stderr",
     "output_type": "stream",
     "text": [
      "/usr/local/lib/python3.8/dist-packages/sklearn/metrics/_classification.py:1248: UndefinedMetricWarning: Precision and F-score are ill-defined and being set to 0.0 in labels with no predicted samples. Use `zero_division` parameter to control this behavior.\n",
      "  _warn_prf(average, modifier, msg_start, len(result))\n",
      "/usr/local/lib/python3.8/dist-packages/sklearn/metrics/_classification.py:1248: UndefinedMetricWarning: Precision and F-score are ill-defined and being set to 0.0 in labels with no predicted samples. Use `zero_division` parameter to control this behavior.\n",
      "  _warn_prf(average, modifier, msg_start, len(result))\n"
     ]
    }
   ],
   "source": [
    "total_report = {}\n",
    "for question in label_metadata.decals_pairs:\n",
    "    question_report, support = evalQuestion(predicted_fractions, decals_test, schema.get_question(question), graphs=False)\n",
    "    total_report[question] = {\n",
    "        'precision': question_report[0],\n",
    "        'recall': question_report[1],\n",
    "        'f1': question_report[2],\n",
    "        'support': support\n",
    "    }"
   ]
  },
  {
   "cell_type": "code",
   "execution_count": 17,
   "id": "a9db5ead-7b21-4097-a5eb-e9bf74a1c0be",
   "metadata": {},
   "outputs": [
    {
     "data": {
      "text/html": [
       "<div>\n",
       "<style scoped>\n",
       "    .dataframe tbody tr th:only-of-type {\n",
       "        vertical-align: middle;\n",
       "    }\n",
       "\n",
       "    .dataframe tbody tr th {\n",
       "        vertical-align: top;\n",
       "    }\n",
       "\n",
       "    .dataframe thead th {\n",
       "        text-align: right;\n",
       "    }\n",
       "</style>\n",
       "<table border=\"1\" class=\"dataframe\">\n",
       "  <thead>\n",
       "    <tr style=\"text-align: right;\">\n",
       "      <th></th>\n",
       "      <th>precision</th>\n",
       "      <th>recall</th>\n",
       "      <th>f1</th>\n",
       "      <th>support</th>\n",
       "    </tr>\n",
       "  </thead>\n",
       "  <tbody>\n",
       "    <tr>\n",
       "      <th>smooth-or-featured</th>\n",
       "      <td>0.869127</td>\n",
       "      <td>0.862852</td>\n",
       "      <td>0.864577</td>\n",
       "      <td>49917</td>\n",
       "    </tr>\n",
       "    <tr>\n",
       "      <th>disk-edge-on</th>\n",
       "      <td>0.954622</td>\n",
       "      <td>0.955131</td>\n",
       "      <td>0.954742</td>\n",
       "      <td>15445</td>\n",
       "    </tr>\n",
       "    <tr>\n",
       "      <th>has-spiral-arms</th>\n",
       "      <td>0.867833</td>\n",
       "      <td>0.874956</td>\n",
       "      <td>0.869333</td>\n",
       "      <td>11380</td>\n",
       "    </tr>\n",
       "    <tr>\n",
       "      <th>bar</th>\n",
       "      <td>0.673015</td>\n",
       "      <td>0.696485</td>\n",
       "      <td>0.661984</td>\n",
       "      <td>11380</td>\n",
       "    </tr>\n",
       "    <tr>\n",
       "      <th>bulge-size</th>\n",
       "      <td>0.674946</td>\n",
       "      <td>0.691125</td>\n",
       "      <td>0.671747</td>\n",
       "      <td>11380</td>\n",
       "    </tr>\n",
       "    <tr>\n",
       "      <th>how-rounded</th>\n",
       "      <td>0.867328</td>\n",
       "      <td>0.864324</td>\n",
       "      <td>0.864813</td>\n",
       "      <td>32526</td>\n",
       "    </tr>\n",
       "    <tr>\n",
       "      <th>edge-on-bulge</th>\n",
       "      <td>0.785438</td>\n",
       "      <td>0.815758</td>\n",
       "      <td>0.784314</td>\n",
       "      <td>2475</td>\n",
       "    </tr>\n",
       "    <tr>\n",
       "      <th>spiral-winding</th>\n",
       "      <td>0.677160</td>\n",
       "      <td>0.690225</td>\n",
       "      <td>0.678048</td>\n",
       "      <td>7499</td>\n",
       "    </tr>\n",
       "    <tr>\n",
       "      <th>spiral-arm-count</th>\n",
       "      <td>0.652455</td>\n",
       "      <td>0.663555</td>\n",
       "      <td>0.642025</td>\n",
       "      <td>7499</td>\n",
       "    </tr>\n",
       "    <tr>\n",
       "      <th>merging</th>\n",
       "      <td>0.845050</td>\n",
       "      <td>0.880338</td>\n",
       "      <td>0.848200</td>\n",
       "      <td>49247</td>\n",
       "    </tr>\n",
       "  </tbody>\n",
       "</table>\n",
       "</div>"
      ],
      "text/plain": [
       "                    precision    recall        f1  support\n",
       "smooth-or-featured   0.869127  0.862852  0.864577    49917\n",
       "disk-edge-on         0.954622  0.955131  0.954742    15445\n",
       "has-spiral-arms      0.867833  0.874956  0.869333    11380\n",
       "bar                  0.673015  0.696485  0.661984    11380\n",
       "bulge-size           0.674946  0.691125  0.671747    11380\n",
       "how-rounded          0.867328  0.864324  0.864813    32526\n",
       "edge-on-bulge        0.785438  0.815758  0.784314     2475\n",
       "spiral-winding       0.677160  0.690225  0.678048     7499\n",
       "spiral-arm-count     0.652455  0.663555  0.642025     7499\n",
       "merging              0.845050  0.880338  0.848200    49247"
      ]
     },
     "execution_count": 17,
     "metadata": {},
     "output_type": "execute_result"
    }
   ],
   "source": [
    "report_df = pd.DataFrame.from_dict(total_report, orient='index')\n",
    "report_df"
   ]
  },
  {
   "cell_type": "code",
   "execution_count": 18,
   "id": "c0afd4db-3bbc-4d19-8f76-d6915c28c3dc",
   "metadata": {},
   "outputs": [],
   "source": [
    "report_df.to_csv(\"../results/resNet/model_res_weightedstats.csv\")"
   ]
  },
  {
   "cell_type": "code",
   "execution_count": null,
   "id": "5986938f-87bc-4e34-80a7-994f2a3e18f8",
   "metadata": {},
   "outputs": [],
   "source": []
  }
 ],
 "metadata": {
  "kernelspec": {
   "display_name": "ASTRO-GPU",
   "language": "python",
   "name": "astro-gpu"
  },
  "language_info": {
   "codemirror_mode": {
    "name": "ipython",
    "version": 3
   },
   "file_extension": ".py",
   "mimetype": "text/x-python",
   "name": "python",
   "nbconvert_exporter": "python",
   "pygments_lexer": "ipython3",
   "version": "3.8.5"
  }
 },
 "nbformat": 4,
 "nbformat_minor": 5
}
